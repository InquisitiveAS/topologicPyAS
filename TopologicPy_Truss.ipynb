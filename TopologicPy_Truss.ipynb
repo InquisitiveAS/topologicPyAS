{
  "cells": [
    {
      "cell_type": "markdown",
      "id": "e2799056",
      "metadata": {
        "id": "e2799056"
      },
      "source": [
        "# CONVERT TOPOLOGIC GRAPH INTO A NEO4J GRAPH\n",
        "\n",
        "### This script builds a 3D model of a two-storey building as a CellComplex with apertures (doors and windows) and contents (furniture), converts it into a topologic graph, and, lastly, converts the topologic graph into a NEO4J graph. This is an experimental feature and we welcome your feedback on it.\n",
        "\n",
        "#### This script requires topologicpy version 0.7.56 or newer"
      ]
    },
    {
      "cell_type": "markdown",
      "id": "4c9a4f10",
      "metadata": {
        "id": "4c9a4f10"
      },
      "source": [
        "## Import Libraries"
      ]
    },
    {
      "cell_type": "code",
      "execution_count": 3,
      "id": "367c033c",
      "metadata": {
        "id": "367c033c"
      },
      "outputs": [],
      "source": [
        "# This is only needed on the software development machine. If you are a user, you can skip this step.\n",
        "import sys\n",
        "#sys.path.append(\"C:/Users/sarwj/OneDrive - Cardiff University/Documents/GitHub/topologicpy/src\")"
      ]
    },
    {
      "cell_type": "code",
      "source": [
        "# prompt: import topologicpy\n",
        "\n",
        "import sys\n",
        "\n"
        "\n",
        "try:\n",
        "  import topologicpy\n",
        "except ImportError:\n",
        "  !pip install topologicpy\n",
        "\n",
        "import topologicpy"
      ],
      "metadata": {
        "colab": {
          "base_uri": "https://localhost:8080/"
        },
        "id": "USPXTD2zMtN1",
        "outputId": "9c671c25-2750-4073-ade3-e82fbfc965e9"
      },
      "id": "USPXTD2zMtN1",
      "execution_count": 4,
      "outputs": [
        {
          "output_type": "stream",
          "name": "stdout",
          "text": [
            "Collecting topologicpy\n",
            "  Downloading topologicpy-0.7.71-py3-none-any.whl.metadata (10 kB)\n",
            "Requirement already satisfied: numpy>=1.18.0 in /usr/local/lib/python3.10/dist-packages (from topologicpy) (1.26.4)\n",
            "Requirement already satisfied: scipy>=1.4.1 in /usr/local/lib/python3.10/dist-packages (from topologicpy) (1.13.1)\n",
            "Requirement already satisfied: pandas in /usr/local/lib/python3.10/dist-packages (from topologicpy) (2.2.2)\n",
            "Requirement already satisfied: tqdm in /usr/local/lib/python3.10/dist-packages (from topologicpy) (4.66.5)\n",
            "Requirement already satisfied: plotly in /usr/local/lib/python3.10/dist-packages (from topologicpy) (5.24.1)\n",
            "Collecting lark (from topologicpy)\n",
            "  Downloading lark-1.2.2-py3-none-any.whl.metadata (1.8 kB)\n",
            "Collecting specklepy (from topologicpy)\n",
            "  Downloading specklepy-2.19.6-py3-none-any.whl.metadata (7.7 kB)\n",
            "Collecting topologic-core>=7.0.1 (from topologicpy)\n",
            "  Downloading topologic_core-8.0.0-cp310-cp310-manylinux2014_x86_64.manylinux_2_17_x86_64.whl.metadata (10 kB)\n",
            "Requirement already satisfied: python-dateutil>=2.8.2 in /usr/local/lib/python3.10/dist-packages (from pandas->topologicpy) (2.8.2)\n",
            "Requirement already satisfied: pytz>=2020.1 in /usr/local/lib/python3.10/dist-packages (from pandas->topologicpy) (2024.2)\n",
            "Requirement already satisfied: tzdata>=2022.7 in /usr/local/lib/python3.10/dist-packages (from pandas->topologicpy) (2024.2)\n",
            "Requirement already satisfied: tenacity>=6.2.0 in /usr/local/lib/python3.10/dist-packages (from plotly->topologicpy) (9.0.0)\n",
            "Requirement already satisfied: packaging in /usr/local/lib/python3.10/dist-packages (from plotly->topologicpy) (24.1)\n",
            "Requirement already satisfied: Deprecated<2.0.0,>=1.2.13 in /usr/local/lib/python3.10/dist-packages (from specklepy->topologicpy) (1.2.14)\n",
            "Collecting appdirs<2.0.0,>=1.4.4 (from specklepy->topologicpy)\n",
            "  Downloading appdirs-1.4.4-py2.py3-none-any.whl.metadata (9.0 kB)\n",
            "Collecting attrs<24.0.0,>=23.1.0 (from specklepy->topologicpy)\n",
            "  Downloading attrs-23.2.0-py3-none-any.whl.metadata (9.5 kB)\n",
            "Collecting gql<4.0.0,>=3.3.0 (from gql[requests,websockets]<4.0.0,>=3.3.0->specklepy->topologicpy)\n",
            "  Downloading gql-3.5.0-py2.py3-none-any.whl.metadata (9.2 kB)\n",
            "Collecting httpx<0.26.0,>=0.25.0 (from specklepy->topologicpy)\n",
            "  Downloading httpx-0.25.2-py3-none-any.whl.metadata (6.9 kB)\n",
            "Requirement already satisfied: pydantic<3.0,>=2.5 in /usr/local/lib/python3.10/dist-packages (from specklepy->topologicpy) (2.9.2)\n",
            "Collecting stringcase<2.0.0,>=1.2.0 (from specklepy->topologicpy)\n",
            "  Downloading stringcase-1.2.0.tar.gz (3.0 kB)\n",
            "  Preparing metadata (setup.py) ... \u001b[?25l\u001b[?25hdone\n",
            "Collecting ujson<6.0.0,>=5.3.0 (from specklepy->topologicpy)\n",
            "  Downloading ujson-5.10.0-cp310-cp310-manylinux_2_17_x86_64.manylinux2014_x86_64.whl.metadata (9.3 kB)\n",
            "Requirement already satisfied: wrapt<2,>=1.10 in /usr/local/lib/python3.10/dist-packages (from Deprecated<2.0.0,>=1.2.13->specklepy->topologicpy) (1.16.0)\n",
            "Collecting graphql-core<3.3,>=3.2 (from gql<4.0.0,>=3.3.0->gql[requests,websockets]<4.0.0,>=3.3.0->specklepy->topologicpy)\n",
            "  Downloading graphql_core-3.2.5-py3-none-any.whl.metadata (10 kB)\n",
            "Requirement already satisfied: yarl<2.0,>=1.6 in /usr/local/lib/python3.10/dist-packages (from gql<4.0.0,>=3.3.0->gql[requests,websockets]<4.0.0,>=3.3.0->specklepy->topologicpy) (1.16.0)\n",
            "Collecting backoff<3.0,>=1.11.1 (from gql<4.0.0,>=3.3.0->gql[requests,websockets]<4.0.0,>=3.3.0->specklepy->topologicpy)\n",
            "  Downloading backoff-2.2.1-py3-none-any.whl.metadata (14 kB)\n",
            "Requirement already satisfied: anyio<5,>=3.0 in /usr/local/lib/python3.10/dist-packages (from gql<4.0.0,>=3.3.0->gql[requests,websockets]<4.0.0,>=3.3.0->specklepy->topologicpy) (3.7.1)\n",
            "Requirement already satisfied: requests<3,>=2.26 in /usr/local/lib/python3.10/dist-packages (from gql[requests,websockets]<4.0.0,>=3.3.0->specklepy->topologicpy) (2.32.3)\n",
            "Collecting requests-toolbelt<2,>=1.0.0 (from gql[requests,websockets]<4.0.0,>=3.3.0->specklepy->topologicpy)\n",
            "  Downloading requests_toolbelt-1.0.0-py2.py3-none-any.whl.metadata (14 kB)\n",
            "Collecting websockets<12,>=10 (from gql[requests,websockets]<4.0.0,>=3.3.0->specklepy->topologicpy)\n",
            "  Downloading websockets-11.0.3-cp310-cp310-manylinux_2_5_x86_64.manylinux1_x86_64.manylinux_2_17_x86_64.manylinux2014_x86_64.whl.metadata (6.6 kB)\n",
            "Requirement already satisfied: certifi in /usr/local/lib/python3.10/dist-packages (from httpx<0.26.0,>=0.25.0->specklepy->topologicpy) (2024.8.30)\n",
            "Collecting httpcore==1.* (from httpx<0.26.0,>=0.25.0->specklepy->topologicpy)\n",
            "  Downloading httpcore-1.0.6-py3-none-any.whl.metadata (21 kB)\n",
            "Requirement already satisfied: idna in /usr/local/lib/python3.10/dist-packages (from httpx<0.26.0,>=0.25.0->specklepy->topologicpy) (3.10)\n",
            "Requirement already satisfied: sniffio in /usr/local/lib/python3.10/dist-packages (from httpx<0.26.0,>=0.25.0->specklepy->topologicpy) (1.3.1)\n",
            "Collecting h11<0.15,>=0.13 (from httpcore==1.*->httpx<0.26.0,>=0.25.0->specklepy->topologicpy)\n",
            "  Downloading h11-0.14.0-py3-none-any.whl.metadata (8.2 kB)\n",
            "Requirement already satisfied: annotated-types>=0.6.0 in /usr/local/lib/python3.10/dist-packages (from pydantic<3.0,>=2.5->specklepy->topologicpy) (0.7.0)\n",
            "Requirement already satisfied: pydantic-core==2.23.4 in /usr/local/lib/python3.10/dist-packages (from pydantic<3.0,>=2.5->specklepy->topologicpy) (2.23.4)\n",
            "Requirement already satisfied: typing-extensions>=4.6.1 in /usr/local/lib/python3.10/dist-packages (from pydantic<3.0,>=2.5->specklepy->topologicpy) (4.12.2)\n",
            "Requirement already satisfied: six>=1.5 in /usr/local/lib/python3.10/dist-packages (from python-dateutil>=2.8.2->pandas->topologicpy) (1.16.0)\n",
            "Requirement already satisfied: exceptiongroup in /usr/local/lib/python3.10/dist-packages (from anyio<5,>=3.0->gql<4.0.0,>=3.3.0->gql[requests,websockets]<4.0.0,>=3.3.0->specklepy->topologicpy) (1.2.2)\n",
            "Requirement already satisfied: charset-normalizer<4,>=2 in /usr/local/lib/python3.10/dist-packages (from requests<3,>=2.26->gql[requests,websockets]<4.0.0,>=3.3.0->specklepy->topologicpy) (3.4.0)\n",
            "Requirement already satisfied: urllib3<3,>=1.21.1 in /usr/local/lib/python3.10/dist-packages (from requests<3,>=2.26->gql[requests,websockets]<4.0.0,>=3.3.0->specklepy->topologicpy) (2.2.3)\n",
            "Requirement already satisfied: multidict>=4.0 in /usr/local/lib/python3.10/dist-packages (from yarl<2.0,>=1.6->gql<4.0.0,>=3.3.0->gql[requests,websockets]<4.0.0,>=3.3.0->specklepy->topologicpy) (6.1.0)\n",
            "Requirement already satisfied: propcache>=0.2.0 in /usr/local/lib/python3.10/dist-packages (from yarl<2.0,>=1.6->gql<4.0.0,>=3.3.0->gql[requests,websockets]<4.0.0,>=3.3.0->specklepy->topologicpy) (0.2.0)\n",
            "Downloading topologicpy-0.7.71-py3-none-any.whl (360 kB)\n",
            "\u001b[2K   \u001b[90m━━━━━━━━━━━━━━━━━━━━━━━━━━━━━━━━━━━━━━━━\u001b[0m \u001b[32m360.1/360.1 kB\u001b[0m \u001b[31m7.2 MB/s\u001b[0m eta \u001b[36m0:00:00\u001b[0m\n",
            "\u001b[?25hDownloading topologic_core-8.0.0-cp310-cp310-manylinux2014_x86_64.manylinux_2_17_x86_64.whl (16.8 MB)\n",
            "\u001b[2K   \u001b[90m━━━━━━━━━━━━━━━━━━━━━━━━━━━━━━━━━━━━━━━━\u001b[0m \u001b[32m16.8/16.8 MB\u001b[0m \u001b[31m26.2 MB/s\u001b[0m eta \u001b[36m0:00:00\u001b[0m\n",
            "\u001b[?25hDownloading lark-1.2.2-py3-none-any.whl (111 kB)\n",
            "\u001b[2K   \u001b[90m━━━━━━━━━━━━━━━━━━━━━━━━━━━━━━━━━━━━━━━━\u001b[0m \u001b[32m111.0/111.0 kB\u001b[0m \u001b[31m6.3 MB/s\u001b[0m eta \u001b[36m0:00:00\u001b[0m\n",
            "\u001b[?25hDownloading specklepy-2.19.6-py3-none-any.whl (114 kB)\n",
            "\u001b[2K   \u001b[90m━━━━━━━━━━━━━━━━━━━━━━━━━━━━━━━━━━━━━━━━\u001b[0m \u001b[32m114.9/114.9 kB\u001b[0m \u001b[31m6.3 MB/s\u001b[0m eta \u001b[36m0:00:00\u001b[0m\n",
            "\u001b[?25hDownloading appdirs-1.4.4-py2.py3-none-any.whl (9.6 kB)\n",
            "Downloading attrs-23.2.0-py3-none-any.whl (60 kB)\n",
            "\u001b[2K   \u001b[90m━━━━━━━━━━━━━━━━━━━━━━━━━━━━━━━━━━━━━━━━\u001b[0m \u001b[32m60.8/60.8 kB\u001b[0m \u001b[31m3.2 MB/s\u001b[0m eta \u001b[36m0:00:00\u001b[0m\n",
            "\u001b[?25hDownloading gql-3.5.0-py2.py3-none-any.whl (74 kB)\n",
            "\u001b[2K   \u001b[90m━━━━━━━━━━━━━━━━━━━━━━━━━━━━━━━━━━━━━━━━\u001b[0m \u001b[32m74.0/74.0 kB\u001b[0m \u001b[31m3.8 MB/s\u001b[0m eta \u001b[36m0:00:00\u001b[0m\n",
            "\u001b[?25hDownloading httpx-0.25.2-py3-none-any.whl (74 kB)\n",
            "\u001b[2K   \u001b[90m━━━━━━━━━━━━━━━━━━━━━━━━━━━━━━━━━━━━━━━━\u001b[0m \u001b[32m75.0/75.0 kB\u001b[0m \u001b[31m4.3 MB/s\u001b[0m eta \u001b[36m0:00:00\u001b[0m\n",
            "\u001b[?25hDownloading httpcore-1.0.6-py3-none-any.whl (78 kB)\n",
            "\u001b[2K   \u001b[90m━━━━━━━━━━━━━━━━━━━━━━━━━━━━━━━━━━━━━━━━\u001b[0m \u001b[32m78.0/78.0 kB\u001b[0m \u001b[31m4.2 MB/s\u001b[0m eta \u001b[36m0:00:00\u001b[0m\n",
            "\u001b[?25hDownloading ujson-5.10.0-cp310-cp310-manylinux_2_17_x86_64.manylinux2014_x86_64.whl (53 kB)\n",
            "\u001b[2K   \u001b[90m━━━━━━━━━━━━━━━━━━━━━━━━━━━━━━━━━━━━━━━━\u001b[0m \u001b[32m53.6/53.6 kB\u001b[0m \u001b[31m2.5 MB/s\u001b[0m eta \u001b[36m0:00:00\u001b[0m\n",
            "\u001b[?25hDownloading backoff-2.2.1-py3-none-any.whl (15 kB)\n",
            "Downloading graphql_core-3.2.5-py3-none-any.whl (203 kB)\n",
            "\u001b[2K   \u001b[90m━━━━━━━━━━━━━━━━━━━━━━━━━━━━━━━━━━━━━━━━\u001b[0m \u001b[32m203.2/203.2 kB\u001b[0m \u001b[31m10.5 MB/s\u001b[0m eta \u001b[36m0:00:00\u001b[0m\n",
            "\u001b[?25hDownloading requests_toolbelt-1.0.0-py2.py3-none-any.whl (54 kB)\n",
            "\u001b[2K   \u001b[90m━━━━━━━━━━━━━━━━━━━━━━━━━━━━━━━━━━━━━━━━\u001b[0m \u001b[32m54.5/54.5 kB\u001b[0m \u001b[31m2.7 MB/s\u001b[0m eta \u001b[36m0:00:00\u001b[0m\n",
            "\u001b[?25hDownloading websockets-11.0.3-cp310-cp310-manylinux_2_5_x86_64.manylinux1_x86_64.manylinux_2_17_x86_64.manylinux2014_x86_64.whl (129 kB)\n",
            "\u001b[2K   \u001b[90m━━━━━━━━━━━━━━━━━━━━━━━━━━━━━━━━━━━━━━━━\u001b[0m \u001b[32m129.9/129.9 kB\u001b[0m \u001b[31m7.1 MB/s\u001b[0m eta \u001b[36m0:00:00\u001b[0m\n",
            "\u001b[?25hDownloading h11-0.14.0-py3-none-any.whl (58 kB)\n",
            "\u001b[2K   \u001b[90m━━━━━━━━━━━━━━━━━━━━━━━━━━━━━━━━━━━━━━━━\u001b[0m \u001b[32m58.3/58.3 kB\u001b[0m \u001b[31m3.0 MB/s\u001b[0m eta \u001b[36m0:00:00\u001b[0m\n",
            "\u001b[?25hBuilding wheels for collected packages: stringcase\n",
            "  Building wheel for stringcase (setup.py) ... \u001b[?25l\u001b[?25hdone\n",
            "  Created wheel for stringcase: filename=stringcase-1.2.0-py3-none-any.whl size=3568 sha256=a5f8f975faec3cb8900015d1cade2b0eea94cb3affefe1767ce33dded135164e\n",
            "  Stored in directory: /root/.cache/pip/wheels/31/ba/22/1a2d952a9ce8aa86e42fda41e2c87fdaf20e238c88bf8df013\n",
            "Successfully built stringcase\n",
            "Installing collected packages: stringcase, appdirs, websockets, ujson, topologic-core, lark, h11, graphql-core, backoff, attrs, requests-toolbelt, httpcore, httpx, gql, specklepy, topologicpy\n",
            "  Attempting uninstall: attrs\n",
            "    Found existing installation: attrs 24.2.0\n",
            "    Uninstalling attrs-24.2.0:\n",
            "      Successfully uninstalled attrs-24.2.0\n",
            "Successfully installed appdirs-1.4.4 attrs-23.2.0 backoff-2.2.1 gql-3.5.0 graphql-core-3.2.5 h11-0.14.0 httpcore-1.0.6 httpx-0.25.2 lark-1.2.2 requests-toolbelt-1.0.0 specklepy-2.19.6 stringcase-1.2.0 topologic-core-8.0.0 topologicpy-0.7.71 ujson-5.10.0 websockets-11.0.3\n"
          ]
        }
      ]
    },
    {
      "cell_type": "code",
      "execution_count": 5,
      "id": "e2edf10f",
      "metadata": {
        "colab": {
          "base_uri": "https://localhost:8080/"
        },
        "id": "e2edf10f",
        "outputId": "45186319-4804-4dd9-cda1-d6d81e417b27"
      },
      "outputs": [
        {
          "output_type": "stream",
          "name": "stdout",
          "text": [
            "Neo4j - Installing required neo4j library.\n"
          ]
        }
      ],
      "source": [
        "# Make sure you have pip installed neo4j\n",
        "from topologicpy.Vertex import Vertex\n",
        "from topologicpy.Edge import Edge\n",
        "from topologicpy.Wire import Wire\n",
        "from topologicpy.Face import Face\n",
        "from topologicpy.Shell import Shell\n",
        "from topologicpy.Cell import Cell\n",
        "from topologicpy.CellComplex import CellComplex\n",
        "from topologicpy.Cluster import Cluster\n",
        "from topologicpy.Topology import Topology\n",
        "from topologicpy.Aperture import Aperture\n",
        "from topologicpy.Graph import Graph\n",
        "from topologicpy.Dictionary import Dictionary\n",
        "from topologicpy.Helper import Helper\n",
        "from topologicpy.Color import Color\n",
        "from topologicpy.Plotly import Plotly\n",
        "from topologicpy.Neo4j import Neo4j\n",
        "from getpass import getpass\n",
        "import uuid\n",
        "import hashlib\n",
        "import json"
      ]
    },
    {
      "cell_type": "markdown",
      "id": "faec66d5",
      "metadata": {
        "id": "faec66d5"
      },
      "source": [
        "## Check the topologicpy version"
      ]
    },
    {
      "cell_type": "code",
      "execution_count": 23,
      "id": "06f8fed1",
      "metadata": {
        "colab": {
          "base_uri": "https://localhost:8080/"
        },
        "id": "06f8fed1",
        "outputId": "a6594d8f-ea1b-4774-ad9c-7db05a645344"
      },
      "outputs": [
        {
          "output_type": "stream",
          "name": "stdout",
          "text": [
            "This script requires topologicpy version 0.7.66 or newer.\n",
            "You are using topologicpy version: 0.7.71\n"
          ]
        }
      ],
      "source": [
        "print(\"This script requires topologicpy version 0.7.66 or newer.\")\n",
        "print(\"You are using topologicpy version:\",Helper.Version())"
      ]
    },
    {
      "cell_type": "code",
      "execution_count": 25,
      "id": "9ab5b383",
      "metadata": {
        "id": "9ab5b383",
        "colab": {
          "base_uri": "https://localhost:8080/",
          "height": 349
        },
        "outputId": "1dd3a6ec-f85e-4d5f-86fa-11c9a1fcfd5e"
      },
      "outputs": [
        {
          "output_type": "error",
          "ename": "TypeError",
          "evalue": "Vertices(): incompatible function arguments. The following argument types are supported:\n    1. (self: topologic_core.Graph, rVertices: list) -> None\n\nInvoked with: <topologic_core.Graph object at 0x7b4534d1cf70>, None",
          "traceback": [
            "\u001b[0;31m---------------------------------------------------------------------------\u001b[0m",
            "\u001b[0;31mTypeError\u001b[0m                                 Traceback (most recent call last)",
            "\u001b[0;32m<ipython-input-25-dd0b4e519c98>\u001b[0m in \u001b[0;36m<cell line: 117>\u001b[0;34m()\u001b[0m\n\u001b[1;32m    115\u001b[0m \u001b[0;31m# Create the Pratt truss graph and visualize it\u001b[0m\u001b[0;34m\u001b[0m\u001b[0;34m\u001b[0m\u001b[0m\n\u001b[1;32m    116\u001b[0m \u001b[0mpratt_truss\u001b[0m \u001b[0;34m=\u001b[0m \u001b[0mcreate_pratt_truss_graph\u001b[0m\u001b[0;34m(\u001b[0m\u001b[0;34m)\u001b[0m\u001b[0;34m\u001b[0m\u001b[0;34m\u001b[0m\u001b[0m\n\u001b[0;32m--> 117\u001b[0;31m \u001b[0mplot_pratt_truss_graph\u001b[0m\u001b[0;34m(\u001b[0m\u001b[0mpratt_truss\u001b[0m\u001b[0;34m)\u001b[0m\u001b[0;34m\u001b[0m\u001b[0;34m\u001b[0m\u001b[0m\n\u001b[0m",
            "\u001b[0;32m<ipython-input-25-dd0b4e519c98>\u001b[0m in \u001b[0;36mplot_pratt_truss_graph\u001b[0;34m(graph)\u001b[0m\n\u001b[1;32m     68\u001b[0m         \u001b[0;32mreturn\u001b[0m\u001b[0;34m\u001b[0m\u001b[0;34m\u001b[0m\u001b[0m\n\u001b[1;32m     69\u001b[0m \u001b[0;34m\u001b[0m\u001b[0m\n\u001b[0;32m---> 70\u001b[0;31m     \u001b[0mvertices\u001b[0m \u001b[0;34m=\u001b[0m \u001b[0mgraph\u001b[0m\u001b[0;34m.\u001b[0m\u001b[0mVertices\u001b[0m\u001b[0;34m(\u001b[0m\u001b[0;32mNone\u001b[0m\u001b[0;34m)\u001b[0m\u001b[0;34m\u001b[0m\u001b[0;34m\u001b[0m\u001b[0m\n\u001b[0m\u001b[1;32m     71\u001b[0m     \u001b[0medges\u001b[0m \u001b[0;34m=\u001b[0m \u001b[0mgraph\u001b[0m\u001b[0;34m.\u001b[0m\u001b[0mEdges\u001b[0m\u001b[0;34m(\u001b[0m\u001b[0;32mNone\u001b[0m\u001b[0;34m)\u001b[0m\u001b[0;34m\u001b[0m\u001b[0;34m\u001b[0m\u001b[0m\n\u001b[1;32m     72\u001b[0m \u001b[0;34m\u001b[0m\u001b[0m\n",
            "\u001b[0;31mTypeError\u001b[0m: Vertices(): incompatible function arguments. The following argument types are supported:\n    1. (self: topologic_core.Graph, rVertices: list) -> None\n\nInvoked with: <topologic_core.Graph object at 0x7b4534d1cf70>, None"
          ]
        }
      ],
      "source": [
        "import topologicpy\n",
        "from topologicpy.Graph import Graph\n",
        "from topologicpy.Vertex import Vertex\n",
        "from topologicpy.Edge import Edge\n",
        "from topologicpy.Wire import Wire\n",
        "from topologicpy.Topology import Topology\n",
        "import plotly.graph_objs as go\n",
        "\n",
        "# Create vertices for the Pratt truss\n",
        "def create_vertices():\n",
        "    vertices = []\n",
        "    num_panels = 4  # number of panels (can be adjusted)\n",
        "    span_length = 20.0  # total span length (meters, adjustable)\n",
        "    height = 5.0  # height of truss (meters, adjustable)\n",
        "\n",
        "    # Create bottom chord nodes\n",
        "    for i in range(num_panels + 1):\n",
        "        x = i * (span_length / num_panels)\n",
        "        y = 0.0\n",
        "        z = 0.0\n",
        "        vertices.append(Vertex.ByCoordinates(x, y, z))\n",
        "\n",
        "    # Create top chord nodes\n",
        "    for i in range(1, num_panels, 2):\n",
        "        x = i * (span_length / num_panels)\n",
        "        y = 0.0\n",
        "        z = height\n",
        "        vertices.append(Vertex.ByCoordinates(x, y, z))\n",
        "\n",
        "    return vertices\n",
        "\n",
        "# Create edges for the Pratt truss\n",
        "def create_edges(vertices):\n",
        "    edges = []\n",
        "    num_panels = 4\n",
        "\n",
        "    # Bottom chord edges\n",
        "    for i in range(num_panels):\n",
        "        edges.append(Edge.ByVertices([vertices[i], vertices[i + 1]]))\n",
        "\n",
        "    # Top chord edges\n",
        "    for i in range(num_panels // 2):\n",
        "        edges.append(Edge.ByVertices([vertices[num_panels + i], vertices[num_panels + i + 1]]))\n",
        "\n",
        "    # Vertical and diagonal members\n",
        "    for i in range(num_panels // 2):\n",
        "        edges.append(Edge.ByVertices([vertices[i], vertices[num_panels + i]]))\n",
        "        edges.append(Edge.ByVertices([vertices[i + 2], vertices[num_panels + i]]))\n",
        "\n",
        "    return edges\n",
        "\n",
        "# Create the Pratt truss graph\n",
        "def create_pratt_truss_graph():\n",
        "    vertices = create_vertices()\n",
        "    edges = create_edges(vertices)\n",
        "\n",
        "    # Create the graph from edges\n",
        "    if edges:\n",
        "        truss_graph = Graph.ByTopology(Wire.ByEdges(edges))\n",
        "        return truss_graph\n",
        "    else:\n",
        "        return None\n",
        "\n",
        "# Plot the Pratt truss graph using Plotly\n",
        "def plot_pratt_truss_graph(graph):\n",
        "    if graph is None:\n",
        "        print(\"Graph is None. Cannot plot.\")\n",
        "        return\n",
        "\n",
        "    vertices = graph.Vertices(None)\n",
        "    edges = graph.Edges(None)\n",
        "\n",
        "    # Extract coordinates of vertices\n",
        "    x_coords = [v.X() for v in vertices]\n",
        "    y_coords = [v.Y() for v in vertices]\n",
        "    z_coords = [v.Z() for v in vertices]\n",
        "\n",
        "    # Create scatter plot for vertices\n",
        "    vertex_trace = go.Scatter3d(\n",
        "        x=x_coords,\n",
        "        y=y_coords,\n",
        "        z=z_coords,\n",
        "        mode='markers',\n",
        "        marker=dict(size=5, color='red'),\n",
        "        name='Vertices'\n",
        "    )\n",
        "\n",
        "    # Create lines for edges\n",
        "    edge_traces = []\n",
        "    for edge in edges:\n",
        "        start_vertex = edge.StartVertex()\n",
        "        end_vertex = edge.EndVertex()\n",
        "        edge_trace = go.Scatter3d(\n",
        "            x=[start_vertex.X(), end_vertex.X()],\n",
        "            y=[start_vertex.Y(), end_vertex.Y()],\n",
        "            z=[start_vertex.Z(), end_vertex.Z()],\n",
        "            mode='lines',\n",
        "            line=dict(width=3, color='blue'),\n",
        "            name='Edges'\n",
        "        )\n",
        "        edge_traces.append(edge_trace)\n",
        "\n",
        "    # Create the figure\n",
        "    fig = go.Figure(data=[vertex_trace] + edge_traces)\n",
        "    fig.update_layout(\n",
        "        title='Pratt Truss Visualization',\n",
        "        scene=dict(\n",
        "            xaxis_title='X Axis',\n",
        "            yaxis_title='Y Axis',\n",
        "            zaxis_title='Z Axis'\n",
        "        )\n",
        "    )\n",
        "    fig.show()\n",
        "\n",
        "# Create the Pratt truss graph and visualize it\n",
        "pratt_truss = create_pratt_truss_graph()\n",
        "plot_pratt_truss_graph(pratt_truss)\n"
      ]
    },
    {
      "cell_type": "markdown",
      "id": "cf9a7d75",
      "metadata": {
        "id": "cf9a7d75"
      },
      "source": [
        "## Build the House"
      ]
    },
    {
      "cell_type": "markdown",
      "id": "50c9bc00",
      "metadata": {
        "id": "50c9bc00"
      },
      "source": [
        "## Visualize the Graph of the House"
      ]
    },
    {
      "cell_type": "markdown",
      "id": "16c41c79",
      "metadata": {
        "id": "16c41c79"
      },
      "source": [
        "## Check the Dictionaries of the Cells"
      ]
    },
    {
      "cell_type": "markdown",
      "id": "13c58088",
      "metadata": {
        "id": "13c58088"
      },
      "source": [
        "## Export the Graph to the NEO4J Graph Database"
      ]
    },
    {
      "cell_type": "markdown",
      "id": "4293678c",
      "metadata": {
        "id": "4293678c"
      },
      "source": [
        "### Enter your credentials. Make sure you have your Neo4J DBMS running and that you know the URL, username, and password"
      ]
    },
    {
      "cell_type": "markdown",
      "id": "6705aec6",
      "metadata": {
        "id": "6705aec6"
      },
      "source": [
        "### Get the Neo4J Graph (in reality this is the driver, but we can think of it as the neo4j graph)"
      ]
    },
    {
      "cell_type": "markdown",
      "id": "1ddbf5aa",
      "metadata": {
        "id": "1ddbf5aa"
      },
      "source": [
        "### Reset the graph (Delete all existing nodes and edges. Be careful with this step if you need to keep your graph)"
      ]
    },
    {
      "cell_type": "markdown",
      "id": "b1f43473",
      "metadata": {
        "id": "b1f43473"
      },
      "source": [
        "### Convert the Topologic Graph to a Neo4J graph."
      ]
    }
  ],
  "metadata": {
    "kernelspec": {
      "display_name": "Python 3",
      "language": "python",
      "name": "python3"
    },
    "language_info": {
      "codemirror_mode": {
        "name": "ipython",
        "version": 3
      },
      "file_extension": ".py",
      "mimetype": "text/x-python",
      "name": "python",
      "nbconvert_exporter": "python",
      "pygments_lexer": "ipython3",
      "version": "3.11.9"
    },
    "colab": {
      "provenance": []
    }
  },
  "nbformat": 4,
  "nbformat_minor": 5
}
