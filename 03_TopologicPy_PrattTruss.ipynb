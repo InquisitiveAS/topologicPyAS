{
 "cells": [
  {
   "cell_type": "markdown",
   "metadata": {},
   "source": [
    "# Importing TopologicPy library"
   ]
  },
  {
   "cell_type": "markdown",
   "metadata": {},
   "source": [
    "__author__ = \"Abhishek Shinde\"\n",
    "__contact__ = \"arabhishek1091@gmail.com\"\n",
    "__copu"
   ]
  },
  {
   "cell_type": "code",
   "execution_count": 3,
   "metadata": {},
   "outputs": [],
   "source": [
    "import sys\n",
    "\n",
    "try:\n",
    "  import topologicpy\n",
    "except ImportError:\n",
    "  !pip install topologicpy\n",
    "\n",
    "import topologicpy"
   ]
  },
  {
   "cell_type": "code",
   "execution_count": 4,
   "metadata": {},
   "outputs": [
    {
     "name": "stderr",
     "output_type": "stream",
     "text": [
      "c:\\Users\\InquisitiveAS\\anaconda3\\envs\\topologicPyAS\\Lib\\site-packages\\tqdm\\auto.py:21: TqdmWarning: IProgress not found. Please update jupyter and ipywidgets. See https://ipywidgets.readthedocs.io/en/stable/user_install.html\n",
      "  from .autonotebook import tqdm as notebook_tqdm\n"
     ]
    }
   ],
   "source": [
    "import topologicpy\n",
    "import topologic_core \n",
    "from topologicpy.Vertex import Vertex\n",
    "from topologicpy.Edge import Edge\n",
    "from topologicpy.Wire import Wire \n",
    "from topologicpy.Face import Face\n",
    "from topologicpy.Shell import Shell\n",
    "from topologicpy.Cell import Cell\n",
    "from topologicpy.CellComplex import CellComplex\n",
    "from topologicpy.Cluster import Cluster\n",
    "from topologicpy.Topology import Topology\n",
    "from topologicpy.Dictionary import Dictionary\n",
    "from topologicpy.Graph import Graph\n",
    "\n",
    "\n",
    "# SYNTAX\n",
    "\n",
    "#Always print the output and then look at the documentation\n",
    "#from topologicpy.ClassName import SameClassName - syntax of the TopologicPy \n",
    "\n",
    "#Vertex - The Vertex is created ByCordinates method as this is developed by Robert Aish and follows Dynamo syntax, \n",
    "#if you want them individually we can also do that using x(vertex[,mantissa]) or Coordinates \n",
    "\n",
    "#TopologicPy uses CamelCase (every word), input parameter also starts with CamelCase but only s\n"
   ]
  },
  {
   "cell_type": "code",
   "execution_count": 7,
   "metadata": {},
   "outputs": [
    {
     "name": "stdout",
     "output_type": "stream",
     "text": [
      "<topologic_core.Vertex object at 0x0000015627D16230>\n",
      "<topologic_core.Vertex object at 0x00000156033CB130>\n",
      "<topologic_core.Vertex object at 0x0000015627D16230>\n",
      "<topologic_core.Vertex object at 0x00000156033CB130>\n",
      "<topologic_core.Vertex object at 0x0000015627D16230>\n",
      "<topologic_core.Vertex object at 0x00000156033CB130>\n",
      "<topologic_core.Vertex object at 0x0000015627D16230>\n",
      "<topologic_core.Vertex object at 0x00000156033CB130>\n",
      "<topologic_core.Vertex object at 0x0000015627D16230>\n",
      "<topologic_core.Vertex object at 0x00000156033CB130>\n",
      "<topologic_core.Vertex object at 0x0000015627D16230>\n",
      "<topologic_core.Vertex object at 0x00000156033CB130>\n",
      "<topologic_core.Vertex object at 0x0000015627D16230>\n",
      "<topologic_core.Vertex object at 0x00000156033CB130>\n",
      "<topologic_core.Vertex object at 0x0000015627D16230>\n",
      "<topologic_core.Vertex object at 0x00000156033CB130>\n",
      "<topologic_core.Vertex object at 0x0000015627D16230>\n",
      "<topologic_core.Vertex object at 0x00000156033CB130>\n",
      "<topologic_core.Vertex object at 0x0000015627D16230>\n",
      "<topologic_core.Vertex object at 0x00000156033CB130>\n",
      "<topologic_core.Vertex object at 0x0000015627D16230>\n",
      "<topologic_core.Vertex object at 0x00000156033CB130>\n",
      "<topologic_core.Vertex object at 0x0000015627D16230>\n",
      "<topologic_core.Vertex object at 0x00000156033CB130>\n",
      "<topologic_core.Vertex object at 0x0000015627D16230>\n",
      "<topologic_core.Vertex object at 0x00000156033CB130>\n",
      "<topologic_core.Vertex object at 0x0000015627D16230>\n",
      "<topologic_core.Vertex object at 0x00000156033CB130>\n",
      "<topologic_core.Vertex object at 0x0000015627D16230>\n",
      "<topologic_core.Vertex object at 0x00000156033CB130>\n"
     ]
    }
   ],
   "source": [
    "# Define the list of prattTrussCoordinates from the Grasshopper Script\n",
    "prattTrussCoordinateslist = [\n",
    "(0,0,0),(0,53,0),(0,107,0),(0,0,64),(0,53,64),(0,107,64),(0,160,64),(0,160,0),(0,214,64),(0,214,0),(0,267,0),(0,320,0),(0,374,0),(0,267,64),(0,320,64),(0,374,64),(0,427,0),(0,481,0),(0,534,0),(0,587,0),(0,427,64),(0,481,64),(0,534,64),(0,641,0),(0,694,0),(0,748,0),(0,587,64),(0,641,64),(0,694,64),(0,748,64)\n",
    "]\n",
    "\n",
    "prattTrussVertices =[]\n",
    "# Loop through each coordinate and pass x,y,,z to Vertex.ByCoordinates \n",
    "for ptcoord in prattTrussCoordinateslist:\n",
    "    # Convert the tuple to a string, then remove the parentheses\n",
    "    # ptcoord_str = str(ptcoord).strip('()')\n",
    "    # print(ptcoord_str)\n",
    "    x,y,z = ptcoord # Unpack the tuple into x,y,z \n",
    "    v = Vertex.ByCoordinates(x,y,z)\n",
    "    prattTrussVertices.append(v)\n",
    "    print(v)\n",
    "\n",
    "Topology.Show(prattTrussVertices,renderer='browser')\n",
    "\n"
   ]
  },
  {
   "cell_type": "code",
   "execution_count": null,
   "metadata": {},
   "outputs": [],
   "source": []
  }
 ],
 "metadata": {
  "kernelspec": {
   "display_name": "topologicPyAS",
   "language": "python",
   "name": "python3"
  },
  "language_info": {
   "codemirror_mode": {
    "name": "ipython",
    "version": 3
   },
   "file_extension": ".py",
   "mimetype": "text/x-python",
   "name": "python",
   "nbconvert_exporter": "python",
   "pygments_lexer": "ipython3",
   "version": "3.13.0"
  }
 },
 "nbformat": 4,
 "nbformat_minor": 2
}
