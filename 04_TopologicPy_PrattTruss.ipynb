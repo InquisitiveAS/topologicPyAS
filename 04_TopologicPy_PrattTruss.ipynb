{
  "cells": [
    {
      "cell_type": "markdown",
      "id": "d0fd1011",
      "metadata": {},
      "source": [
        "__author__ = \"Abhishek Shinde\"\n",
        "__contact__ = \"arabhishek1091@gmail.com\""
      ]
    },
    {
      "cell_type": "markdown",
      "id": "4c9a4f10",
      "metadata": {
        "id": "4c9a4f10"
      },
      "source": [
        "## Import TopologicPy library "
      ]
    },
    {
      "cell_type": "code",
      "execution_count": 3,
      "id": "367c033c",
      "metadata": {
        "id": "367c033c"
      },
      "outputs": [],
      "source": [
        "# This is only needed on the software development machine. If you are a user, you can skip this step. - We dont need this cell \n",
        "#import sys\n",
        "#sys.path.append(\"C:/Users/sarwj/OneDrive - Cardiff University/Documents/GitHub/topologicpy/src\")"
      ]
    },
    {
      "cell_type": "code",
      "execution_count": null,
      "id": "USPXTD2zMtN1",
      "metadata": {
        "colab": {
          "base_uri": "https://localhost:8080/"
        },
        "id": "USPXTD2zMtN1",
        "outputId": "9c671c25-2750-4073-ade3-e82fbfc965e9"
      },
      "outputs": [
        {
          "ename": "",
          "evalue": "",
          "output_type": "error",
          "traceback": [
            "\u001b[1;31mRunning cells with 'topologicPyAS (Python 3.13.0)' requires the ipykernel package.\n",
            "\u001b[1;31mRun the following command to install 'ipykernel' into the Python environment. \n",
            "\u001b[1;31mCommand: 'conda install -n topologicPyAS ipykernel --update-deps --force-reinstall'"
          ]
        }
      ],
      "source": [
        "import sys\n",
        "\n",
        "try:\n",
        "  import topologicpy\n",
        "except ImportError:\n",
        "  !pip install topologicpy\n",
        "\n",
        "import topologicpy"
      ]
    },
    {
      "cell_type": "code",
      "execution_count": 5,
      "id": "e2edf10f",
      "metadata": {
        "colab": {
          "base_uri": "https://localhost:8080/"
        },
        "id": "e2edf10f",
        "outputId": "45186319-4804-4dd9-cda1-d6d81e417b27"
      },
      "outputs": [
        {
          "name": "stdout",
          "output_type": "stream",
          "text": [
            "Neo4j - Installing required neo4j library.\n"
          ]
        }
      ],
      "source": [
        "# Make sure you have pip installed neo4j\n",
        "from topologicpy.Vertex import Vertex\n",
        "from topologicpy.Edge import Edge\n",
        "from topologicpy.Wire import Wire\n",
        "from topologicpy.Face import Face\n",
        "from topologicpy.Shell import Shell\n",
        "from topologicpy.Cell import Cell\n",
        "from topologicpy.CellComplex import CellComplex\n",
        "from topologicpy.Cluster import Cluster\n",
        "from topologicpy.Topology import Topology\n",
        "from topologicpy.Aperture import Aperture\n",
        "from topologicpy.Graph import Graph\n",
        "from topologicpy.Dictionary import Dictionary\n",
        "from topologicpy.Helper import Helper\n",
        "from topologicpy.Color import Color\n",
        "from topologicpy.Plotly import Plotly\n",
        "from topologicpy.Neo4j import Neo4j\n",
        "from getpass import getpass\n",
        "import uuid\n",
        "import hashlib\n",
        "import json"
      ]
    },
    {
      "cell_type": "markdown",
      "id": "faec66d5",
      "metadata": {
        "id": "faec66d5"
      },
      "source": [
        "## Check the topologicpy version"
      ]
    },
    {
      "cell_type": "code",
      "execution_count": 23,
      "id": "06f8fed1",
      "metadata": {
        "colab": {
          "base_uri": "https://localhost:8080/"
        },
        "id": "06f8fed1",
        "outputId": "a6594d8f-ea1b-4774-ad9c-7db05a645344"
      },
      "outputs": [
        {
          "name": "stdout",
          "output_type": "stream",
          "text": [
            "This script requires topologicpy version 0.7.66 or newer.\n",
            "You are using topologicpy version: 0.7.71\n"
          ]
        }
      ],
      "source": [
        "print(\"This script requires topologicpy version 0.7.66 or newer.\")\n",
        "print(\"You are using topologicpy version:\",Helper.Version())"
      ]
    },
    {
      "cell_type": "code",
      "execution_count": 25,
      "id": "9ab5b383",
      "metadata": {
        "colab": {
          "base_uri": "https://localhost:8080/",
          "height": 349
        },
        "id": "9ab5b383",
        "outputId": "1dd3a6ec-f85e-4d5f-86fa-11c9a1fcfd5e"
      },
      "outputs": [
        {
          "ename": "TypeError",
          "evalue": "Vertices(): incompatible function arguments. The following argument types are supported:\n    1. (self: topologic_core.Graph, rVertices: list) -> None\n\nInvoked with: <topologic_core.Graph object at 0x7b4534d1cf70>, None",
          "output_type": "error",
          "traceback": [
            "\u001b[0;31m---------------------------------------------------------------------------\u001b[0m",
            "\u001b[0;31mTypeError\u001b[0m                                 Traceback (most recent call last)",
            "\u001b[0;32m<ipython-input-25-dd0b4e519c98>\u001b[0m in \u001b[0;36m<cell line: 117>\u001b[0;34m()\u001b[0m\n\u001b[1;32m    115\u001b[0m \u001b[0;31m# Create the Pratt truss graph and visualize it\u001b[0m\u001b[0;34m\u001b[0m\u001b[0;34m\u001b[0m\u001b[0m\n\u001b[1;32m    116\u001b[0m \u001b[0mpratt_truss\u001b[0m \u001b[0;34m=\u001b[0m \u001b[0mcreate_pratt_truss_graph\u001b[0m\u001b[0;34m(\u001b[0m\u001b[0;34m)\u001b[0m\u001b[0;34m\u001b[0m\u001b[0;34m\u001b[0m\u001b[0m\n\u001b[0;32m--> 117\u001b[0;31m \u001b[0mplot_pratt_truss_graph\u001b[0m\u001b[0;34m(\u001b[0m\u001b[0mpratt_truss\u001b[0m\u001b[0;34m)\u001b[0m\u001b[0;34m\u001b[0m\u001b[0;34m\u001b[0m\u001b[0m\n\u001b[0m",
            "\u001b[0;32m<ipython-input-25-dd0b4e519c98>\u001b[0m in \u001b[0;36mplot_pratt_truss_graph\u001b[0;34m(graph)\u001b[0m\n\u001b[1;32m     68\u001b[0m         \u001b[0;32mreturn\u001b[0m\u001b[0;34m\u001b[0m\u001b[0;34m\u001b[0m\u001b[0m\n\u001b[1;32m     69\u001b[0m \u001b[0;34m\u001b[0m\u001b[0m\n\u001b[0;32m---> 70\u001b[0;31m     \u001b[0mvertices\u001b[0m \u001b[0;34m=\u001b[0m \u001b[0mgraph\u001b[0m\u001b[0;34m.\u001b[0m\u001b[0mVertices\u001b[0m\u001b[0;34m(\u001b[0m\u001b[0;32mNone\u001b[0m\u001b[0;34m)\u001b[0m\u001b[0;34m\u001b[0m\u001b[0;34m\u001b[0m\u001b[0m\n\u001b[0m\u001b[1;32m     71\u001b[0m     \u001b[0medges\u001b[0m \u001b[0;34m=\u001b[0m \u001b[0mgraph\u001b[0m\u001b[0;34m.\u001b[0m\u001b[0mEdges\u001b[0m\u001b[0;34m(\u001b[0m\u001b[0;32mNone\u001b[0m\u001b[0;34m)\u001b[0m\u001b[0;34m\u001b[0m\u001b[0;34m\u001b[0m\u001b[0m\n\u001b[1;32m     72\u001b[0m \u001b[0;34m\u001b[0m\u001b[0m\n",
            "\u001b[0;31mTypeError\u001b[0m: Vertices(): incompatible function arguments. The following argument types are supported:\n    1. (self: topologic_core.Graph, rVertices: list) -> None\n\nInvoked with: <topologic_core.Graph object at 0x7b4534d1cf70>, None"
          ]
        }
      ],
      "source": [
        "import topologicpy\n",
        "from topologicpy.Graph import Graph\n",
        "from topologicpy.Vertex import Vertex\n",
        "from topologicpy.Edge import Edge\n",
        "from topologicpy.Wire import Wire\n",
        "from topologicpy.Topology import Topology\n",
        "import plotly.graph_objs as go\n",
        "\n",
        "# Create vertices for the Pratt truss\n",
        "def create_vertices():\n",
        "    vertices = []\n",
        "    num_panels = 4  # number of panels (can be adjusted)\n",
        "    span_length = 20.0  # total span length (meters, adjustable)\n",
        "    height = 5.0  # height of truss (meters, adjustable)\n",
        "\n",
        "    # Create bottom chord nodes\n",
        "    for i in range(num_panels + 1):\n",
        "        x = i * (span_length / num_panels)\n",
        "        y = 0.0\n",
        "        z = 0.0\n",
        "        vertices.append(Vertex.ByCoordinates(x, y, z))\n",
        "\n",
        "    # Create top chord nodes\n",
        "    for i in range(1, num_panels, 2):\n",
        "        x = i * (span_length / num_panels)\n",
        "        y = 0.0\n",
        "        z = height\n",
        "        vertices.append(Vertex.ByCoordinates(x, y, z))\n",
        "\n",
        "    return vertices\n",
        "\n",
        "# Create edges for the Pratt truss\n",
        "def create_edges(vertices):\n",
        "    edges = []\n",
        "    num_panels = 4\n",
        "\n",
        "    # Bottom chord edges\n",
        "    for i in range(num_panels):\n",
        "        edges.append(Edge.ByVertices([vertices[i], vertices[i + 1]]))\n",
        "\n",
        "    # Top chord edges\n",
        "    for i in range(num_panels // 2):\n",
        "        edges.append(Edge.ByVertices([vertices[num_panels + i], vertices[num_panels + i + 1]]))\n",
        "\n",
        "    # Vertical and diagonal members\n",
        "    for i in range(num_panels // 2):\n",
        "        edges.append(Edge.ByVertices([vertices[i], vertices[num_panels + i]]))\n",
        "        edges.append(Edge.ByVertices([vertices[i + 2], vertices[num_panels + i]]))\n",
        "\n",
        "    return edges\n",
        "\n",
        "# Create the Pratt truss graph\n",
        "def create_pratt_truss_graph():\n",
        "    vertices = create_vertices()\n",
        "    edges = create_edges(vertices)\n",
        "\n",
        "    # Create the graph from edges\n",
        "    if edges:\n",
        "        truss_graph = Graph.ByTopology(Wire.ByEdges(edges))\n",
        "        return truss_graph\n",
        "    else:\n",
        "        return None\n",
        "\n",
        "# Plot the Pratt truss graph using Plotly\n",
        "def plot_pratt_truss_graph(graph):\n",
        "    if graph is None:\n",
        "        print(\"Graph is None. Cannot plot.\")\n",
        "        return\n",
        "\n",
        "    vertices = graph.Vertices(None)\n",
        "    edges = graph.Edges(None)\n",
        "\n",
        "    # Extract coordinates of vertices\n",
        "    x_coords = [v.X() for v in vertices]\n",
        "    y_coords = [v.Y() for v in vertices]\n",
        "    z_coords = [v.Z() for v in vertices]\n",
        "\n",
        "    # Create scatter plot for vertices\n",
        "    vertex_trace = go.Scatter3d(\n",
        "        x=x_coords,\n",
        "        y=y_coords,\n",
        "        z=z_coords,\n",
        "        mode='markers',\n",
        "        marker=dict(size=5, color='red'),\n",
        "        name='Vertices'\n",
        "    )\n",
        "\n",
        "    # Create lines for edges\n",
        "    edge_traces = []\n",
        "    for edge in edges:\n",
        "        start_vertex = edge.StartVertex()\n",
        "        end_vertex = edge.EndVertex()\n",
        "        edge_trace = go.Scatter3d(\n",
        "            x=[start_vertex.X(), end_vertex.X()],\n",
        "            y=[start_vertex.Y(), end_vertex.Y()],\n",
        "            z=[start_vertex.Z(), end_vertex.Z()],\n",
        "            mode='lines',\n",
        "            line=dict(width=3, color='blue'),\n",
        "            name='Edges'\n",
        "        )\n",
        "        edge_traces.append(edge_trace)\n",
        "\n",
        "    # Create the figure\n",
        "    fig = go.Figure(data=[vertex_trace] + edge_traces)\n",
        "    fig.update_layout(\n",
        "        title='Pratt Truss Visualization',\n",
        "        scene=dict(\n",
        "            xaxis_title='X Axis',\n",
        "            yaxis_title='Y Axis',\n",
        "            zaxis_title='Z Axis'\n",
        "        )\n",
        "    )\n",
        "    fig.show()\n",
        "\n",
        "# Create the Pratt truss graph and visualize it\n",
        "pratt_truss = create_pratt_truss_graph()\n",
        "plot_pratt_truss_graph(pratt_truss)\n"
      ]
    }
  ],
  "metadata": {
    "colab": {
      "provenance": []
    },
    "kernelspec": {
      "display_name": "topologicPyAS",
      "language": "python",
      "name": "python3"
    },
    "language_info": {
      "codemirror_mode": {
        "name": "ipython",
        "version": 3
      },
      "file_extension": ".py",
      "mimetype": "text/x-python",
      "name": "python",
      "nbconvert_exporter": "python",
      "pygments_lexer": "ipython3",
      "version": "3.13.0"
    }
  },
  "nbformat": 4,
  "nbformat_minor": 5
}
