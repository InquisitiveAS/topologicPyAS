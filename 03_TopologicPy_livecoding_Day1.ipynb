{
 "cells": [
  {
   "cell_type": "code",
   "execution_count": 14,
   "metadata": {},
   "outputs": [],
   "source": [
    "from topologicpy.Vertex import Vertex\n",
    "from topologicpy.Edge import Edge \n",
    "from topologicpy.Wire import Wire \n",
    "from topologicpy.Face import Face \n",
    "from topologicpy.Shell import Shell\n",
    "from topologicpy.Cell import Cell\n",
    "from topologicpy.CellComplex import CellComplex\n",
    "from topologicpy.Cluster import Cluster\n",
    "from topologicpy.Topology import Topology\n",
    "from topologicpy.Dictionary import Dictionary\n",
    "from topologicpy.Graph import Graph "
   ]
  },
  {
   "cell_type": "code",
   "execution_count": 15,
   "metadata": {},
   "outputs": [],
   "source": [
    "d1 = CellComplex.Prism(origin=(0,0,0),uSides=1, vSides=1, wSides=10)\n",
    "d2 = CellComplex.Prism(origin=(0,3,0),uSides=1, vSides=1, wSides=10)\n",
    "d3 = CellComplex.Prism(origin=(3,0,0),uSides=1, vSides=1, wSides=10)\n",
    "d4 = CellComplex.Prism(origin=(3,3,0),uSides=1, vSides=1, wSides=10)\n",
    "\n",
    "#Topology.Show(d1,d2,d3,d4,renderer=\"browser\")"
   ]
  },
  {
   "cell_type": "code",
   "execution_count": 16,
   "metadata": {},
   "outputs": [],
   "source": [
    "g_width = 20\n",
    "g_length= 10\n",
    "g_height = 1\n",
    "g_sides = 3\n",
    "\n",
    "num_floors = 3\n",
    "\n",
    "c_width = 0.5\n",
    "c_length = 0.5\n",
    "c_height = 3\n",
    "\n",
    "ground = CellComplex.Prism(width=g_width, length=g_length, height= g_height, uSides =g_sides,wSides=1, vSides=g_sides,placement= \"bottom\")\n",
    "cells = Topology.Cells(ground)\n",
    "\n",
    "centroids = []\n",
    "columns = []\n",
    "\n",
    "for cell in cells:\n",
    "    centroid = Topology.Centroid(cell)\n",
    "    centroid = Topology.Translate(centroid,0,0,g_height*0.5)\n",
    "    centroids.append(centroid)\n",
    "    column = Cell.Prism(origin = centroid,width=c_width, length = c_length, height= c_height, placement= \"bottom\")\n",
    "    columns.append(column)\n",
    "\n",
    "centroid = Topology.Centroid(ground)\n",
    "centroid = Topology.Translate(centroid,0,0,g_height*0.5+c_height)\n",
    "\n",
    "b_width = g_width*0.9\n",
    "b_length = g_length*0.9 \n",
    "b_u_sides = int(b_width/3)\n",
    "b_v_sides = int(b_length/3)\n",
    "\n",
    "block = CellComplex.Prism(width=g_width*0.9, \n",
    "                          length=g_length*0.9,\n",
    "                          height=num_floors*3,\n",
    "                          uSides=b_u_sides,\n",
    "                          vSides=b_v_sides,\n",
    "                          wSides=num_floors,\n",
    "                          placement=\"bottom\")\n",
    "\n",
    "Topology.Show(ground,columns,block,centroids,xAxis=True, yAxis=True, zAxis=True,renderer=\"browser\")"
   ]
  },
  {
   "cell_type": "code",
   "execution_count": 22,
   "metadata": {},
   "outputs": [
    {
     "name": "stdout",
     "output_type": "stream",
     "text": [
      "<topologic_core.CellComplex object at 0x000001FFF23702F0>\n"
     ]
    }
   ],
   "source": [
    "#final_result = Topology.SelfMerge(Cluster.ByTopologies(ground,column,block))\n",
    "#print(final_result)\n",
    "\n",
    "ground_cells = Topology.Cells(ground)\n",
    "\n",
    "selectors = []\n",
    "for ground_cell in ground_cells:\n",
    "    centroid = Topology.Centroid(ground_cell)\n",
    "    #ground cell are going to be labelled as 0 \n",
    "    dc = Dictionary.ByKeyValue(\"id\",0)\n",
    "    centroid = Topology.SetDictionary(centroid,dc)\n",
    "    selectors.append(centroid)\n",
    "\n",
    "for column in columns:\n",
    "    centroid = Topology.Centroid(column)\n",
    "    #column are going to be labelled as 1 \n",
    "    dc = Dictionary.ByKeyValue(\"id\",1)\n",
    "    centroid = Topology.SetDictionary(centroid,dc)\n",
    "    selectors.append(centroid)\n",
    "\n",
    "\n",
    "block_cells = Topology.Cells(block)\n",
    "for block_cell in block_cells:\n",
    "    centroid = Topology.Centroid(block_cell)\n",
    "    #block cell are going to be labelled as 2 \n",
    "    dc = Dictionary.ByKeyValue(\"id\",2)\n",
    "    centroid = Topology.SetDictionary(centroid,dc)\n",
    "    selectors.append(centroid)\n",
    "\n",
    "\n",
    "all_cells = ground_cells+block_cells+ columns\n",
    "final_result = CellComplex.ByCells(all_cells)\n",
    "\n",
    "final_result = Topology.TransferDictionariesBySelectors(final_result,selectors,tranCells=True)\n",
    "print(final_result)"
   ]
  },
  {
   "cell_type": "code",
   "execution_count": 24,
   "metadata": {},
   "outputs": [],
   "source": [
    "g = Graph.ByTopology(final_result)\n",
    "#Topology.Show(g, final_result,faceOpacity=0.2, renderer=\"browser\")\n",
    "\n",
    "Graph.Show(g,vertexSize=6, vertexGroupKey=\"id\", vertexGroups=[0,1,2], renderer=\"browser\")"
   ]
  }
 ],
 "metadata": {
  "kernelspec": {
   "display_name": "tpLpy",
   "language": "python",
   "name": "python3"
  },
  "language_info": {
   "codemirror_mode": {
    "name": "ipython",
    "version": 3
   },
   "file_extension": ".py",
   "mimetype": "text/x-python",
   "name": "python",
   "nbconvert_exporter": "python",
   "pygments_lexer": "ipython3",
   "version": "3.11.9"
  }
 },
 "nbformat": 4,
 "nbformat_minor": 2
}
