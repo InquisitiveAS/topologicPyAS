{
 "cells": [
  {
   "cell_type": "code",
   "execution_count": 2,
   "metadata": {},
   "outputs": [],
   "source": [
    "from topologicpy.Vertex import Vertex\n",
    "from topologicpy.Edge import Edge \n",
    "from topologicpy.Wire import Wire \n",
    "from topologicpy.Face import Face \n",
    "from topologicpy.Shell import Shell\n",
    "from topologicpy.Cell import Cell\n",
    "from topologicpy.CellComplex import CellComplex\n",
    "from topologicpy.Cluster import Cluster\n",
    "from topologicpy.Topology import Topology\n",
    "from topologicpy.Dictionary import Dictionary\n",
    "from topologicpy.Graph import Graph "
   ]
  },
  {
   "cell_type": "code",
   "execution_count": 13,
   "metadata": {},
   "outputs": [],
   "source": [
    "# STEP 1- CREATE A BUILDING AND ITS SLICING AS CLUSTER \n",
    "\n",
    "c = Cell.Prism(width = 20, length=10, height=10, placement=\"bottom\")\n",
    "# Face is already at (0,0,0) so you should not mention placement  in the argument for Face.Rectangle()\n",
    "f = Face.Rectangle(width=50, length=50)\n",
    "# Slice the building using f1,f2 - Horizontal Slicing\n",
    "f1 = Topology.Translate(f,0,0,5)\n",
    "f2 = Topology.Translate(f,0,0,8)\n",
    "# Slice the building using f1,f2- Vertical Slicing \n",
    "# For rotation, we need an Axis and an angle(in degrees), the axis is defined as vector\n",
    "# [1,0,0] is +X axis ,[0,1,0] is +Y axis and 0,0,1 is +Z axis\n",
    "f3 = Topology.Rotate(f,axis=[0,1,0], angle=90)\n",
    "# We can move f3 \n",
    "f4 = Topology.Translate(f3,-8,0,0)\n",
    "f5 = Topology.Translate(f3,5,0,0)\n",
    "#Topology.Show(c,f1,f2,f3,f4,f5,renderer=\"browser\")\n",
    "\n",
    "# We are now building cluster and hence commented out the statement previously\n",
    "cluster =Cluster.ByTopologies(f1,f2,f3,f4,f5)\n",
    "# The commented statement below \n",
    "#Topology.Show(c,cluster,renderer=\"browser\")"
   ]
  },
  {
   "cell_type": "code",
   "execution_count": 17,
   "metadata": {},
   "outputs": [],
   "source": [
    "# STEP 2 - PERFORM THE SLICING OF THE CLUSTER , SO WE HIDE THE SLICE FACE'S\n",
    "\n",
    "c = Topology.Slice(c,cluster)\n",
    "Topology.Show(c,renderer=\"browser\")"
   ]
  },
  {
   "cell_type": "code",
   "execution_count": null,
   "metadata": {},
   "outputs": [],
   "source": [
    "# STEP 3 - CREATE  Building , Ground , Core , Columns ( TOPOLOGIC PY CANNOT DEAL WITH NURBS SURFACES, BUT YOU CAN DO MESH SUBDIVISION OR TRIANGULATE IT)\n",
    "\n",
    "\n",
    "# APPROACH 1 - When someone gives you an Obj file where Building, Ground and Core and Columns are not Blocks\n",
    "\n",
    "# ground = Topology.ByOBJPath(r\"C:\\Users\\sarwj\\OneDrive - Cardiff University\\eCAADe 2024 Workshop\\Wegdan\\Building.obj\")[0]\n",
    "# print(ground) - This will print the obj object as a Cluster and a list \n",
    "# Obj sometimes exchange X and Y Axis,\n",
    "# ground = Topology.Rotate(building, axis=[1,0,0], angle=90)\n",
    "# print(Topology.Analyze(ground)) - It tells us about the shape of the cluster,nos. of cell complexes, nos. of shells, nos. of faces, nos. of wires, nos. of edges, nos. of vertices\n",
    "# We take the faces of the ground and build a cluster out of it\n",
    "# groundfaces = Topology.Faces(ground)\n",
    "# ground = Cell.ByFaces(groundfaces)\n",
    "# print(ground) - This will print it as a cell\n",
    "# To remove traingulation\n",
    "# ground = Topology.RemoveCoplanarFaces(ground)\n",
    "# print(ground) - This will print it as a cell - This will again print it as a Ground\n",
    "\n",
    "# building = Topology.ByOBJPath(r\"C:\\Users\\sarwj\\OneDrive - Cardiff University\\eCAADe 2024 Workshop\\Wegdan\\Building.obj\")[0]\n",
    "# building = Topology.Rotate(building, axis=[1,0,0], angle=90)\n",
    "# faces = Topology.Faces(building)\n",
    "# building = Cell.ByFaces(faces)\n",
    "# building = Topology.RemoveCoplanarFaces(building)\n",
    "# print(building)\n",
    "\n",
    "# Show building and Ground together\n",
    "# Topology.Show(ground, building,renderer=\"browser\")"
   ]
  },
  {
   "cell_type": "code",
   "execution_count": null,
   "metadata": {},
   "outputs": [],
   "source": [
    "#  STEP 3(FOR BLOCKS) : APPROACH 2 - In Gals,Blockobj. She has already done divisions inside the Block. So ,we just need to do different Approach\n",
    "\n",
    "# block = Topology.ByOBJPath(r\"C:\\Users\\sarwj\\OneDrive - Cardiff University\\eCAADe 2024 Workshop\\Wegdan\\Building.obj\")[0]\n",
    "# block = Topology.Rotate(block, axis=[1,0,0], angle=90)\n",
    "# blockfaces = Topology.Faces(block)\n",
    "# block = CellComplex.ByFaces(blockfaces)\n",
    "# block = Topology.RemoveCoplanarFaces(block)\n",
    "# print(block) - This will print it as a cell - This will again print it as a Ground\n",
    "# Topology.Show(block,renderer=\"browser\")\n"
   ]
  }
 ],
 "metadata": {
  "kernelspec": {
   "display_name": "tpLpy",
   "language": "python",
   "name": "python3"
  },
  "language_info": {
   "codemirror_mode": {
    "name": "ipython",
    "version": 3
   },
   "file_extension": ".py",
   "mimetype": "text/x-python",
   "name": "python",
   "nbconvert_exporter": "python",
   "pygments_lexer": "ipython3",
   "version": "3.11.9"
  }
 },
 "nbformat": 4,
 "nbformat_minor": 2
}
